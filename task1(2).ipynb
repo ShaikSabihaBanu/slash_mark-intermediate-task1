{
 "cells": [
  {
   "cell_type": "code",
   "execution_count": 6,
   "id": "53c1abd7-2c71-4e86-9d3b-cee9bc5a3b37",
   "metadata": {},
   "outputs": [
    {
     "name": "stdout",
     "output_type": "stream",
     "text": [
      "   Recency (months)  Frequency (times)  Monetary (c.c. blood)  Time (months)  \\\n",
      "0                 2                 50                  12500             98   \n",
      "1                 0                 13                   3250             28   \n",
      "2                 1                 16                   4000             35   \n",
      "3                 2                 20                   5000             45   \n",
      "4                 1                 24                   6000             77   \n",
      "\n",
      "   whether he/she donated blood in March 2007  \n",
      "0                                           1  \n",
      "1                                           1  \n",
      "2                                           1  \n",
      "3                                           1  \n",
      "4                                           0  \n",
      "<class 'pandas.core.frame.DataFrame'>\n",
      "RangeIndex: 748 entries, 0 to 747\n",
      "Data columns (total 5 columns):\n",
      " #   Column                                      Non-Null Count  Dtype\n",
      "---  ------                                      --------------  -----\n",
      " 0   Recency (months)                            748 non-null    int64\n",
      " 1   Frequency (times)                           748 non-null    int64\n",
      " 2   Monetary (c.c. blood)                       748 non-null    int64\n",
      " 3   Time (months)                               748 non-null    int64\n",
      " 4   whether he/she donated blood in March 2007  748 non-null    int64\n",
      "dtypes: int64(5)\n",
      "memory usage: 29.3 KB\n",
      "None\n"
     ]
    }
   ],
   "source": [
    "import pandas as pd\n",
    "\n",
    "# Load dataset\n",
    "df = pd.read_csv(r\"C:\\Users\\Zubeda\\OneDrive\\Documents\\Sabiha\\slash_mark\\Give-Life-Predict-Blood-Donations-master\\datasets\\transfusion.data\")\n",
    "\n",
    "# Inspect the first few rows\n",
    "print(df.head())\n",
    "\n",
    "# Check data types and missing values\n",
    "print(df.info())\n"
   ]
  },
  {
   "cell_type": "code",
   "execution_count": 8,
   "id": "da48acfa-2007-4be4-ad80-600fbaf7e8ed",
   "metadata": {},
   "outputs": [],
   "source": [
    "df.columns = [\"Recency\", \"Frequency\", \"Monetary\", \"Time\", \"Target\"]\n"
   ]
  },
  {
   "cell_type": "code",
   "execution_count": 9,
   "id": "01f8b35a-0783-4786-924b-93e72defcd9f",
   "metadata": {},
   "outputs": [
    {
     "name": "stdout",
     "output_type": "stream",
     "text": [
      "Recency      0\n",
      "Frequency    0\n",
      "Monetary     0\n",
      "Time         0\n",
      "Target       0\n",
      "dtype: int64\n"
     ]
    }
   ],
   "source": [
    "print(df.isnull().sum())  # No missing values\n"
   ]
  },
  {
   "cell_type": "code",
   "execution_count": 11,
   "id": "16801311-07bf-43cb-bf95-98923560b06b",
   "metadata": {},
   "outputs": [
    {
     "data": {
      "image/png": "[encoded data removed]",
      "text/plain": [
       "<Figure size 640x480 with 1 Axes>"
      ]
     },
     "metadata": {},
     "output_type": "display_data"
    },
    {
     "name": "stdout",
     "output_type": "stream",
     "text": [
      "Target\n",
      "0    0.762032\n",
      "1    0.237968\n",
      "Name: proportion, dtype: float64\n"
     ]
    }
   ],
   "source": [
    "import seaborn as sns\n",
    "import matplotlib.pyplot as plt\n",
    "\n",
    "sns.countplot(x=df[\"Target\"])\n",
    "plt.title(\"Distribution of Target Variable\")\n",
    "plt.show()\n",
    "\n",
    "print(df[\"Target\"].value_counts(normalize=True))  # Check proportion of 1s and 0s\n"
   ]
  },
  {
   "cell_type": "code",
   "execution_count": 12,
   "id": "890736f7-f4da-407c-a61c-8410faacfd98",
   "metadata": {},
   "outputs": [],
   "source": [
    "from sklearn.preprocessing import StandardScaler\n",
    "\n",
    "scaler = StandardScaler()\n",
    "X_scaled = scaler.fit_transform(df.drop(columns=[\"Target\"]))\n"
   ]
  },
  {
   "cell_type": "code",
   "execution_count": 13,
   "id": "f4e048c7-57c3-4c06-bf6a-468b6c15045f",
   "metadata": {},
   "outputs": [],
   "source": [
    "from sklearn.model_selection import train_test_split\n",
    "\n",
    "X = df.drop(columns=[\"Target\"])\n",
    "y = df[\"Target\"]\n",
    "\n",
    "X_train, X_test, y_train, y_test = train_test_split(X, y, test_size=0.2, random_state=42)\n"
   ]
  },
  {
   "cell_type": "code",
   "execution_count": 14,
   "id": "07114b17-8e5a-416a-9a76-50dc091ba2db",
   "metadata": {},
   "outputs": [
    {
     "name": "stdout",
     "output_type": "stream",
     "text": [
      "Logistic Regression Accuracy: 0.76\n"
     ]
    }
   ],
   "source": [
    "from sklearn.linear_model import LogisticRegression\n",
    "from sklearn.metrics import accuracy_score\n",
    "\n",
    "log_model = LogisticRegression()\n",
    "log_model.fit(X_train, y_train)\n",
    "y_pred_log = log_model.predict(X_test)\n",
    "\n",
    "print(\"Logistic Regression Accuracy:\", accuracy_score(y_test, y_pred_log))\n"
   ]
  },
  {
   "cell_type": "code",
   "execution_count": 15,
   "id": "6e65f5a3-179b-41b2-ac17-5d98cc036b90",
   "metadata": {},
   "outputs": [
    {
     "name": "stdout",
     "output_type": "stream",
     "text": [
      "Random Forest Accuracy: 0.72\n"
     ]
    }
   ],
   "source": [
    "from sklearn.ensemble import RandomForestClassifier\n",
    "\n",
    "rf_model = RandomForestClassifier(n_estimators=100, random_state=42)\n",
    "rf_model.fit(X_train, y_train)\n",
    "y_pred_rf = rf_model.predict(X_test)\n",
    "\n",
    "print(\"Random Forest Accuracy:\", accuracy_score(y_test, y_pred_rf))\n"
   ]
  },
  {
   "cell_type": "code",
   "execution_count": 16,
   "id": "c4278577-3f3c-4625-b745-09d363f283d7",
   "metadata": {},
   "outputs": [
    {
     "name": "stdout",
     "output_type": "stream",
     "text": [
      "Classification Report:\n",
      "               precision    recall  f1-score   support\n",
      "\n",
      "           0       0.78      0.88      0.82       113\n",
      "           1       0.39      0.24      0.30        37\n",
      "\n",
      "    accuracy                           0.72       150\n",
      "   macro avg       0.59      0.56      0.56       150\n",
      "weighted avg       0.68      0.72      0.70       150\n",
      "\n"
     ]
    },
    {
     "data": {
      "image/png": "[encoded data removed]",
      "text/plain": [
       "<Figure size 640x480 with 2 Axes>"
      ]
     },
     "metadata": {},
     "output_type": "display_data"
    }
   ],
   "source": [
    "from sklearn.metrics import classification_report, confusion_matrix\n",
    "\n",
    "print(\"Classification Report:\\n\", classification_report(y_test, y_pred_rf))\n",
    "\n",
    "import seaborn as sns\n",
    "import matplotlib.pyplot as plt\n",
    "\n",
    "# Confusion Matrix\n",
    "cm = confusion_matrix(y_test, y_pred_rf)\n",
    "sns.heatmap(cm, annot=True, fmt=\"d\", cmap=\"Blues\")\n",
    "plt.xlabel(\"Predicted\")\n",
    "plt.ylabel(\"Actual\")\n",
    "plt.title(\"Confusion Matrix - Random Forest\")\n",
    "plt.show()\n"
   ]
  },
  {
   "cell_type": "code",
   "execution_count": 1,
   "id": "7df787d7-713d-4de7-b739-a926292b43d6",
   "metadata": {},
   "outputs": [
    {
     "name": "stdout",
     "output_type": "stream",
     "text": [
      "Defaulting to user installation because normal site-packages is not writeable\n",
      "Collecting tpot\n",
      "  Downloading TPOT-0.12.2-py3-none-any.whl.metadata (2.0 kB)\n",
      "Requirement already satisfied: numpy>=1.16.3 in c:\\users\\zubeda\\appdata\\roaming\\python\\python311\\site-packages (from tpot) (2.0.1)\n",
      "Requirement already satisfied: scipy>=1.3.1 in c:\\users\\zubeda\\appdata\\roaming\\python\\python311\\site-packages (from tpot) (1.14.1)\n",
      "Requirement already satisfied: scikit-learn>=1.4.1 in c:\\users\\zubeda\\appdata\\roaming\\python\\python311\\site-packages (from tpot) (1.5.2)\n",
      "Collecting deap>=1.2 (from tpot)\n",
      "  Downloading deap-1.4.2-cp311-cp311-win_amd64.whl.metadata (13 kB)\n",
      "Collecting update-checker>=0.16 (from tpot)\n",
      "  Downloading update_checker-0.18.0-py3-none-any.whl.metadata (2.3 kB)\n",
      "Requirement already satisfied: tqdm>=4.36.1 in c:\\users\\zubeda\\appdata\\roaming\\python\\python311\\site-packages (from tpot) (4.66.5)\n",
      "Collecting stopit>=1.1.1 (from tpot)\n",
      "  Downloading stopit-1.1.2.tar.gz (18 kB)\n",
      "  Preparing metadata (setup.py): started\n",
      "  Preparing metadata (setup.py): finished with status 'done'\n",
      "Requirement already satisfied: pandas>=0.24.2 in c:\\users\\zubeda\\appdata\\roaming\\python\\python311\\site-packages (from tpot) (2.2.2)\n",
      "Requirement already satisfied: joblib>=0.13.2 in c:\\users\\zubeda\\appdata\\roaming\\python\\python311\\site-packages (from tpot) (1.4.2)\n",
      "Requirement already satisfied: xgboost>=1.1.0 in c:\\users\\zubeda\\appdata\\roaming\\python\\python311\\site-packages (from tpot) (2.1.1)\n",
      "Requirement already satisfied: python-dateutil>=2.8.2 in c:\\users\\zubeda\\appdata\\roaming\\python\\python311\\site-packages (from pandas>=0.24.2->tpot) (2.9.0.post0)\n",
      "Requirement already satisfied: pytz>=2020.1 in c:\\users\\zubeda\\appdata\\roaming\\python\\python311\\site-packages (from pandas>=0.24.2->tpot) (2024.1)\n",
      "Requirement already satisfied: tzdata>=2022.7 in c:\\users\\zubeda\\appdata\\roaming\\python\\python311\\site-packages (from pandas>=0.24.2->tpot) (2024.1)\n",
      "Requirement already satisfied: threadpoolctl>=3.1.0 in c:\\users\\zubeda\\appdata\\roaming\\python\\python311\\site-packages (from scikit-learn>=1.4.1->tpot) (3.5.0)\n",
      "Requirement already satisfied: colorama in c:\\users\\zubeda\\appdata\\roaming\\python\\python311\\site-packages (from tqdm>=4.36.1->tpot) (0.4.6)\n",
      "Requirement already satisfied: requests>=2.3.0 in c:\\users\\zubeda\\appdata\\roaming\\python\\python311\\site-packages (from update-checker>=0.16->tpot) (2.32.3)\n",
      "Requirement already satisfied: six>=1.5 in c:\\users\\zubeda\\appdata\\roaming\\python\\python311\\site-packages (from python-dateutil>=2.8.2->pandas>=0.24.2->tpot) (1.16.0)\n",
      "Requirement already satisfied: charset-normalizer<4,>=2 in c:\\users\\zubeda\\appdata\\roaming\\python\\python311\\site-packages (from requests>=2.3.0->update-checker>=0.16->tpot) (3.3.2)\n",
      "Requirement already satisfied: idna<4,>=2.5 in c:\\users\\zubeda\\appdata\\roaming\\python\\python311\\site-packages (from requests>=2.3.0->update-checker>=0.16->tpot) (3.7)\n",
      "Requirement already satisfied: urllib3<3,>=1.21.1 in c:\\users\\zubeda\\appdata\\roaming\\python\\python311\\site-packages (from requests>=2.3.0->update-checker>=0.16->tpot) (2.2.2)\n",
      "Requirement already satisfied: certifi>=2017.4.17 in c:\\users\\zubeda\\appdata\\roaming\\python\\python311\\site-packages (from requests>=2.3.0->update-checker>=0.16->tpot) (2024.7.4)\n",
      "Downloading TPOT-0.12.2-py3-none-any.whl (87 kB)\n",
      "Downloading deap-1.4.2-cp311-cp311-win_amd64.whl (109 kB)\n",
      "Downloading update_checker-0.18.0-py3-none-any.whl (7.0 kB)\n",
      "Building wheels for collected packages: stopit\n",
      "  Building wheel for stopit (setup.py): started\n",
      "  Building wheel for stopit (setup.py): finished with status 'done'\n",
      "  Created wheel for stopit: filename=stopit-1.1.2-py3-none-any.whl size=12019 sha256=b7261decf701d23320f9fc09138fbe9f501085f6dcdc0a50fe7eb2f6ad1a0467\n",
      "  Stored in directory: c:\\users\\zubeda\\appdata\\local\\pip\\cache\\wheels\\da\\77\\2d\\adbc56bc4db95ad80c6d4e71cd69e2d9d122174904342e3f7f\n",
      "Successfully built stopit\n",
      "Installing collected packages: stopit, deap, update-checker, tpot\n",
      "Successfully installed deap-1.4.2 stopit-1.1.2 tpot-0.12.2 update-checker-0.18.0\n"
     ]
    },
    {
     "name": "stderr",
     "output_type": "stream",
     "text": [
      "  WARNING: The script tpot.exe is installed in 'C:\\Users\\Zubeda\\AppData\\Roaming\\Python\\Python311\\Scripts' which is not on PATH.\n",
      "  Consider adding this directory to PATH or, if you prefer to suppress this warning, use --no-warn-script-location.\n",
      "\n",
      "[notice] A new release of pip is available: 24.2 -> 25.0.1\n",
      "[notice] To update, run: python.exe -m pip install --upgrade pip\n"
     ]
    }
   ],
   "source": [
    "!pip install tpot\n"
   ]
  },
  {
   "cell_type": "code",
   "execution_count": 6,
   "id": "b2978591-da17-403d-8a38-3f6529413152",
   "metadata": {},
   "outputs": [
    {
     "name": "stdout",
     "output_type": "stream",
     "text": [
      "Train/Test split completed!\n"
     ]
    }
   ],
   "source": [
    "from sklearn.model_selection import train_test_split\n",
    "\n",
    "import pandas as pd\n",
    "\n",
    "# Load dataset\n",
    "df = pd.read_csv(r\"C:\\Users\\Zubeda\\OneDrive\\Documents\\Sabiha\\slash_mark\\Give-Life-Predict-Blood-Donations-master\\datasets\\transfusion.data\")\n",
    "\n",
    "# Rename columns for simplicity\n",
    "df.columns = [\"Recency\", \"Frequency\", \"Monetary\", \"Time\", \"Target\"]\n",
    "\n",
    "# Define features and target variable\n",
    "X = df.drop(columns=[\"Target\"])  # Features\n",
    "y = df[\"Target\"]  # Target variable\n",
    "\n",
    "# Split the dataset into training and testing sets\n",
    "X_train, X_test, y_train, y_test = train_test_split(X, y, test_size=0.2, random_state=42)\n",
    "\n",
    "print(\"Train/Test split completed!\")\n"
   ]
  },
  {
   "cell_type": "code",
   "execution_count": 7,
   "id": "abf2f3e2-c642-4b2c-ba45-99032e44b86b",
   "metadata": {},
   "outputs": [
    {
     "data": {
      "application/vnd.jupyter.widget-view+json": {
       "model_id": "",
       "version_major": 2,
       "version_minor": 0
      },
      "text/plain": [
       "Optimization Progress:   0%|          | 0/120 [00:00<?, ?pipeline/s]"
      ]
     },
     "metadata": {},
     "output_type": "display_data"
    },
    {
     "name": "stdout",
     "output_type": "stream",
     "text": [
      "\n",
      "Generation 1 - Current best internal CV score: 0.8060644257703082\n",
      "\n",
      "Generation 2 - Current best internal CV score: 0.8060644257703082\n",
      "\n",
      "Generation 3 - Current best internal CV score: 0.8060644257703082\n",
      "\n",
      "Generation 4 - Current best internal CV score: 0.8060644257703082\n",
      "\n",
      "Generation 5 - Current best internal CV score: 0.8060644257703082\n",
      "\n",
      "Best pipeline: MLPClassifier(RobustScaler(input_matrix), alpha=0.0001, learning_rate_init=0.01)\n",
      "TPOT Best Model Accuracy: 0.7466666666666667\n"
     ]
    }
   ],
   "source": [
    "from tpot import TPOTClassifier\n",
    "\n",
    "tpot = TPOTClassifier(generations=5, population_size=20, verbosity=2, random_state=42)\n",
    "tpot.fit(X_train, y_train)\n",
    "\n",
    "print(\"TPOT Best Model Accuracy:\", tpot.score(X_test, y_test))\n"
   ]
  },
  {
   "cell_type": "code",
   "execution_count": 8,
   "id": "24404533-b424-4eb2-b6bc-a15a8a4ce76a",
   "metadata": {},
   "outputs": [],
   "source": [
    "from sklearn.preprocessing import StandardScaler\n",
    "scaler = StandardScaler()\n",
    "X_train_scaled = scaler.fit_transform(X_train)\n",
    "X_test_scaled = scaler.transform(X_test)\n"
   ]
  },
  {
   "cell_type": "code",
   "execution_count": 10,
   "id": "808bcb3b-5bf5-4cd7-8a1d-0706e2a834a0",
   "metadata": {},
   "outputs": [
    {
     "name": "stdout",
     "output_type": "stream",
     "text": [
      "Defaulting to user installation because normal site-packages is not writeable\n",
      "Collecting imbalanced-learn\n",
      "  Downloading imbalanced_learn-0.13.0-py3-none-any.whl.metadata (8.8 kB)\n",
      "Requirement already satisfied: numpy<3,>=1.24.3 in c:\\users\\zubeda\\appdata\\roaming\\python\\python311\\site-packages (from imbalanced-learn) (2.0.1)\n",
      "Requirement already satisfied: scipy<2,>=1.10.1 in c:\\users\\zubeda\\appdata\\roaming\\python\\python311\\site-packages (from imbalanced-learn) (1.14.1)\n",
      "Requirement already satisfied: scikit-learn<2,>=1.3.2 in c:\\users\\zubeda\\appdata\\roaming\\python\\python311\\site-packages (from imbalanced-learn) (1.5.2)\n",
      "Collecting sklearn-compat<1,>=0.1 (from imbalanced-learn)\n",
      "  Downloading sklearn_compat-0.1.3-py3-none-any.whl.metadata (18 kB)\n",
      "Requirement already satisfied: joblib<2,>=1.1.1 in c:\\users\\zubeda\\appdata\\roaming\\python\\python311\\site-packages (from imbalanced-learn) (1.4.2)\n",
      "Requirement already satisfied: threadpoolctl<4,>=2.0.0 in c:\\users\\zubeda\\appdata\\roaming\\python\\python311\\site-packages (from imbalanced-learn) (3.5.0)\n",
      "Downloading imbalanced_learn-0.13.0-py3-none-any.whl (238 kB)\n",
      "Downloading sklearn_compat-0.1.3-py3-none-any.whl (18 kB)\n",
      "Installing collected packages: sklearn-compat, imbalanced-learn\n",
      "Successfully installed imbalanced-learn-0.13.0 sklearn-compat-0.1.3\n"
     ]
    },
    {
     "name": "stderr",
     "output_type": "stream",
     "text": [
      "\n",
      "[notice] A new release of pip is available: 24.2 -> 25.0.1\n",
      "[notice] To update, run: python.exe -m pip install --upgrade pip\n"
     ]
    }
   ],
   "source": [
    "!pip install imbalanced-learn\n"
   ]
  },
  {
   "cell_type": "code",
   "execution_count": 11,
   "id": "53d39486-a22d-48d1-b12c-5036ea07019d",
   "metadata": {},
   "outputs": [],
   "source": [
    "from imblearn.over_sampling import SMOTE\n",
    "smote = SMOTE()\n",
    "X_train_resampled, y_train_resampled = smote.fit_resample(X_train, y_train)\n"
   ]
  },
  {
   "cell_type": "code",
   "execution_count": 12,
   "id": "c4e0f86a-7dde-4647-9b03-fc01a3befc4a",
   "metadata": {},
   "outputs": [],
   "source": [
    "tpot = TPOTClassifier(generations=10, population_size=50, verbosity=2, random_state=42)\n"
   ]
  },
  {
   "cell_type": "code",
   "execution_count": 13,
   "id": "5258a947-0f99-423d-b5fa-0ff33395d713",
   "metadata": {},
   "outputs": [
    {
     "name": "stdout",
     "output_type": "stream",
     "text": [
      "Random Forest Accuracy: 0.7266666666666667\n"
     ]
    }
   ],
   "source": [
    "from sklearn.ensemble import RandomForestClassifier\n",
    "rf_model = RandomForestClassifier(n_estimators=200, random_state=42)\n",
    "rf_model.fit(X_train, y_train)\n",
    "print(\"Random Forest Accuracy:\", rf_model.score(X_test, y_test))\n"
   ]
  },
  {
   "cell_type": "code",
   "execution_count": null,
   "id": "aebe10c8-1b96-4c1a-bd94-6cdb18c011e9",
   "metadata": {},
   "outputs": [],
   "source": []
  }
 ],
 "metadata": {
  "kernelspec": {
   "display_name": "Python 3 (ipykernel)",
   "language": "python",
   "name": "python3"
  },
  "language_info": {
   "codemirror_mode": {
    "name": "ipython",
    "version": 3
   },
   "file_extension": ".py",
   "mimetype": "text/x-python",
   "name": "python",
   "nbconvert_exporter": "python",
   "pygments_lexer": "ipython3",
   "version": "3.11.2"
  }
 },
 "nbformat": 4,
 "nbformat_minor": 5
}
